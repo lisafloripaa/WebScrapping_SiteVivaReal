{
 "cells": [
  {
   "cell_type": "markdown",
   "metadata": {},
   "source": [
    "# Web Scrapping de dados de apartamentos para alugar na cidade de Florianópolis SC no site Viva Real\n",
    "\n",
    "*Web Scrapping of data about apartaments for rent in Florianópolis (Santa Catarina Departament, Brazil) using the website called \"Viva Real\"*\n",
    "\n",
    "by Haisa Vargas Echeli."
   ]
  },
  {
   "cell_type": "markdown",
   "metadata": {},
   "source": [
    "Importando as bibliotecas necessárias\n",
    "*(Importing the needed packages)*"
   ]
  },
  {
   "cell_type": "code",
   "execution_count": 1,
   "metadata": {},
   "outputs": [],
   "source": [
    "from selenium import webdriver\n",
    "from selenium.webdriver.common.action_chains import ActionChains\n",
    "from webdriver_manager.chrome import ChromeDriverManager\n",
    "from time import sleep\n",
    "import pandas as pd\n",
    "from tqdm import tqdm\n",
    "from datetime import datetime"
   ]
  },
  {
   "cell_type": "markdown",
   "metadata": {},
   "source": [
    "Instalando o WebDriver Manager para o  navegador Google Chrome *(Installing the WebDriver Manager for Google Chrome browser)*"
   ]
  },
  {
   "cell_type": "code",
   "execution_count": 2,
   "metadata": {},
   "outputs": [
    {
     "name": "stderr",
     "output_type": "stream",
     "text": [
      "[WDM] - ====== WebDriver manager ======\n",
      "[WDM] - Current google-chrome version is 90.0.4430\n",
      "[WDM] - Get LATEST driver version for 90.0.4430\n"
     ]
    },
    {
     "name": "stdout",
     "output_type": "stream",
     "text": [
      "\n",
      "\n"
     ]
    },
    {
     "name": "stderr",
     "output_type": "stream",
     "text": [
      "[WDM] - Driver [C:\\Users\\lisaf\\.wdm\\drivers\\chromedriver\\win32\\90.0.4430.24\\chromedriver.exe] found in cache\n"
     ]
    }
   ],
   "source": [
    "#Isso também abre o navegador (this also opens the browser)!\n",
    "driver = webdriver.Chrome(ChromeDriverManager().install())"
   ]
  },
  {
   "cell_type": "markdown",
   "metadata": {},
   "source": [
    "Definindo variáveis *(Creating the variables)*"
   ]
  },
  {
   "cell_type": "code",
   "execution_count": 3,
   "metadata": {},
   "outputs": [],
   "source": [
    "url_dict = {\"Florianópolis\": \"https://www.vivareal.com.br/aluguel/santa-catarina/florianopolis/apartamento_residencial/\"}\n",
    "\n",
    "errors = []\n",
    "results = []"
   ]
  },
  {
   "cell_type": "markdown",
   "metadata": {},
   "source": [
    "Criando função para o Web Scrapping dos dados do site *(Creating the function for Web Scrapping the site data)*"
   ]
  },
  {
   "cell_type": "code",
   "execution_count": 4,
   "metadata": {},
   "outputs": [
    {
     "name": "stderr",
     "output_type": "stream",
     "text": [
      "Florianópolis:  91%|███████████████████████████████████████████████████████████▏     | 132/145 [44:44<04:24, 20.34s/it]\n"
     ]
    },
    {
     "ename": "StaleElementReferenceException",
     "evalue": "Message: stale element reference: element is not attached to the page document\n  (Session info: chrome=90.0.4430.212)\n",
     "output_type": "error",
     "traceback": [
      "\u001b[1;31m---------------------------------------------------------------------------\u001b[0m",
      "\u001b[1;31mStaleElementReferenceException\u001b[0m            Traceback (most recent call last)",
      "\u001b[1;32m<ipython-input-4-384ee55a8d67>\u001b[0m in \u001b[0;36m<module>\u001b[1;34m\u001b[0m\n\u001b[0;32m     33\u001b[0m             \u001b[0marea\u001b[0m \u001b[1;33m=\u001b[0m \u001b[0mapartment\u001b[0m\u001b[1;33m.\u001b[0m\u001b[0mfind_element_by_class_name\u001b[0m\u001b[1;33m(\u001b[0m\u001b[1;34m\"js-property-card-detail-area\"\u001b[0m\u001b[1;33m)\u001b[0m\u001b[1;33m.\u001b[0m\u001b[0mtext\u001b[0m\u001b[1;33m\u001b[0m\u001b[1;33m\u001b[0m\u001b[0m\n\u001b[0;32m     34\u001b[0m             \u001b[0mrooms\u001b[0m \u001b[1;33m=\u001b[0m \u001b[0mapartment\u001b[0m\u001b[1;33m.\u001b[0m\u001b[0mfind_element_by_class_name\u001b[0m\u001b[1;33m(\u001b[0m\u001b[1;34m\"js-property-detail-rooms\"\u001b[0m\u001b[1;33m)\u001b[0m\u001b[1;33m.\u001b[0m\u001b[0mtext\u001b[0m\u001b[1;33m\u001b[0m\u001b[1;33m\u001b[0m\u001b[0m\n\u001b[1;32m---> 35\u001b[1;33m             \u001b[0mbathrooms\u001b[0m \u001b[1;33m=\u001b[0m \u001b[0mapartment\u001b[0m\u001b[1;33m.\u001b[0m\u001b[0mfind_element_by_class_name\u001b[0m\u001b[1;33m(\u001b[0m\u001b[1;34m\"js-property-detail-bathroom\"\u001b[0m\u001b[1;33m)\u001b[0m\u001b[1;33m.\u001b[0m\u001b[0mtext\u001b[0m\u001b[1;33m\u001b[0m\u001b[1;33m\u001b[0m\u001b[0m\n\u001b[0m\u001b[0;32m     36\u001b[0m             \u001b[0mgarages\u001b[0m \u001b[1;33m=\u001b[0m \u001b[0mapartment\u001b[0m\u001b[1;33m.\u001b[0m\u001b[0mfind_element_by_class_name\u001b[0m\u001b[1;33m(\u001b[0m\u001b[1;34m\"js-property-detail-garages\"\u001b[0m\u001b[1;33m)\u001b[0m\u001b[1;33m.\u001b[0m\u001b[0mtext\u001b[0m\u001b[1;33m\u001b[0m\u001b[1;33m\u001b[0m\u001b[0m\n\u001b[0;32m     37\u001b[0m             \u001b[1;31m#Tratar casos onde não há amenidades (Treat cases where there are no amenities):\u001b[0m\u001b[1;33m\u001b[0m\u001b[1;33m\u001b[0m\u001b[1;33m\u001b[0m\u001b[0m\n",
      "\u001b[1;32m~\\anaconda3\\lib\\site-packages\\selenium\\webdriver\\remote\\webelement.py\u001b[0m in \u001b[0;36mtext\u001b[1;34m(self)\u001b[0m\n\u001b[0;32m     74\u001b[0m     \u001b[1;32mdef\u001b[0m \u001b[0mtext\u001b[0m\u001b[1;33m(\u001b[0m\u001b[0mself\u001b[0m\u001b[1;33m)\u001b[0m\u001b[1;33m:\u001b[0m\u001b[1;33m\u001b[0m\u001b[1;33m\u001b[0m\u001b[0m\n\u001b[0;32m     75\u001b[0m         \u001b[1;34m\"\"\"The text of the element.\"\"\"\u001b[0m\u001b[1;33m\u001b[0m\u001b[1;33m\u001b[0m\u001b[0m\n\u001b[1;32m---> 76\u001b[1;33m         \u001b[1;32mreturn\u001b[0m \u001b[0mself\u001b[0m\u001b[1;33m.\u001b[0m\u001b[0m_execute\u001b[0m\u001b[1;33m(\u001b[0m\u001b[0mCommand\u001b[0m\u001b[1;33m.\u001b[0m\u001b[0mGET_ELEMENT_TEXT\u001b[0m\u001b[1;33m)\u001b[0m\u001b[1;33m[\u001b[0m\u001b[1;34m'value'\u001b[0m\u001b[1;33m]\u001b[0m\u001b[1;33m\u001b[0m\u001b[1;33m\u001b[0m\u001b[0m\n\u001b[0m\u001b[0;32m     77\u001b[0m \u001b[1;33m\u001b[0m\u001b[0m\n\u001b[0;32m     78\u001b[0m     \u001b[1;32mdef\u001b[0m \u001b[0mclick\u001b[0m\u001b[1;33m(\u001b[0m\u001b[0mself\u001b[0m\u001b[1;33m)\u001b[0m\u001b[1;33m:\u001b[0m\u001b[1;33m\u001b[0m\u001b[1;33m\u001b[0m\u001b[0m\n",
      "\u001b[1;32m~\\anaconda3\\lib\\site-packages\\selenium\\webdriver\\remote\\webelement.py\u001b[0m in \u001b[0;36m_execute\u001b[1;34m(self, command, params)\u001b[0m\n\u001b[0;32m    631\u001b[0m             \u001b[0mparams\u001b[0m \u001b[1;33m=\u001b[0m \u001b[1;33m{\u001b[0m\u001b[1;33m}\u001b[0m\u001b[1;33m\u001b[0m\u001b[1;33m\u001b[0m\u001b[0m\n\u001b[0;32m    632\u001b[0m         \u001b[0mparams\u001b[0m\u001b[1;33m[\u001b[0m\u001b[1;34m'id'\u001b[0m\u001b[1;33m]\u001b[0m \u001b[1;33m=\u001b[0m \u001b[0mself\u001b[0m\u001b[1;33m.\u001b[0m\u001b[0m_id\u001b[0m\u001b[1;33m\u001b[0m\u001b[1;33m\u001b[0m\u001b[0m\n\u001b[1;32m--> 633\u001b[1;33m         \u001b[1;32mreturn\u001b[0m \u001b[0mself\u001b[0m\u001b[1;33m.\u001b[0m\u001b[0m_parent\u001b[0m\u001b[1;33m.\u001b[0m\u001b[0mexecute\u001b[0m\u001b[1;33m(\u001b[0m\u001b[0mcommand\u001b[0m\u001b[1;33m,\u001b[0m \u001b[0mparams\u001b[0m\u001b[1;33m)\u001b[0m\u001b[1;33m\u001b[0m\u001b[1;33m\u001b[0m\u001b[0m\n\u001b[0m\u001b[0;32m    634\u001b[0m \u001b[1;33m\u001b[0m\u001b[0m\n\u001b[0;32m    635\u001b[0m     \u001b[1;32mdef\u001b[0m \u001b[0mfind_element\u001b[0m\u001b[1;33m(\u001b[0m\u001b[0mself\u001b[0m\u001b[1;33m,\u001b[0m \u001b[0mby\u001b[0m\u001b[1;33m=\u001b[0m\u001b[0mBy\u001b[0m\u001b[1;33m.\u001b[0m\u001b[0mID\u001b[0m\u001b[1;33m,\u001b[0m \u001b[0mvalue\u001b[0m\u001b[1;33m=\u001b[0m\u001b[1;32mNone\u001b[0m\u001b[1;33m)\u001b[0m\u001b[1;33m:\u001b[0m\u001b[1;33m\u001b[0m\u001b[1;33m\u001b[0m\u001b[0m\n",
      "\u001b[1;32m~\\anaconda3\\lib\\site-packages\\selenium\\webdriver\\remote\\webdriver.py\u001b[0m in \u001b[0;36mexecute\u001b[1;34m(self, driver_command, params)\u001b[0m\n\u001b[0;32m    319\u001b[0m         \u001b[0mresponse\u001b[0m \u001b[1;33m=\u001b[0m \u001b[0mself\u001b[0m\u001b[1;33m.\u001b[0m\u001b[0mcommand_executor\u001b[0m\u001b[1;33m.\u001b[0m\u001b[0mexecute\u001b[0m\u001b[1;33m(\u001b[0m\u001b[0mdriver_command\u001b[0m\u001b[1;33m,\u001b[0m \u001b[0mparams\u001b[0m\u001b[1;33m)\u001b[0m\u001b[1;33m\u001b[0m\u001b[1;33m\u001b[0m\u001b[0m\n\u001b[0;32m    320\u001b[0m         \u001b[1;32mif\u001b[0m \u001b[0mresponse\u001b[0m\u001b[1;33m:\u001b[0m\u001b[1;33m\u001b[0m\u001b[1;33m\u001b[0m\u001b[0m\n\u001b[1;32m--> 321\u001b[1;33m             \u001b[0mself\u001b[0m\u001b[1;33m.\u001b[0m\u001b[0merror_handler\u001b[0m\u001b[1;33m.\u001b[0m\u001b[0mcheck_response\u001b[0m\u001b[1;33m(\u001b[0m\u001b[0mresponse\u001b[0m\u001b[1;33m)\u001b[0m\u001b[1;33m\u001b[0m\u001b[1;33m\u001b[0m\u001b[0m\n\u001b[0m\u001b[0;32m    322\u001b[0m             response['value'] = self._unwrap_value(\n\u001b[0;32m    323\u001b[0m                 response.get('value', None))\n",
      "\u001b[1;32m~\\anaconda3\\lib\\site-packages\\selenium\\webdriver\\remote\\errorhandler.py\u001b[0m in \u001b[0;36mcheck_response\u001b[1;34m(self, response)\u001b[0m\n\u001b[0;32m    240\u001b[0m                 \u001b[0malert_text\u001b[0m \u001b[1;33m=\u001b[0m \u001b[0mvalue\u001b[0m\u001b[1;33m[\u001b[0m\u001b[1;34m'alert'\u001b[0m\u001b[1;33m]\u001b[0m\u001b[1;33m.\u001b[0m\u001b[0mget\u001b[0m\u001b[1;33m(\u001b[0m\u001b[1;34m'text'\u001b[0m\u001b[1;33m)\u001b[0m\u001b[1;33m\u001b[0m\u001b[1;33m\u001b[0m\u001b[0m\n\u001b[0;32m    241\u001b[0m             \u001b[1;32mraise\u001b[0m \u001b[0mexception_class\u001b[0m\u001b[1;33m(\u001b[0m\u001b[0mmessage\u001b[0m\u001b[1;33m,\u001b[0m \u001b[0mscreen\u001b[0m\u001b[1;33m,\u001b[0m \u001b[0mstacktrace\u001b[0m\u001b[1;33m,\u001b[0m \u001b[0malert_text\u001b[0m\u001b[1;33m)\u001b[0m\u001b[1;33m\u001b[0m\u001b[1;33m\u001b[0m\u001b[0m\n\u001b[1;32m--> 242\u001b[1;33m         \u001b[1;32mraise\u001b[0m \u001b[0mexception_class\u001b[0m\u001b[1;33m(\u001b[0m\u001b[0mmessage\u001b[0m\u001b[1;33m,\u001b[0m \u001b[0mscreen\u001b[0m\u001b[1;33m,\u001b[0m \u001b[0mstacktrace\u001b[0m\u001b[1;33m)\u001b[0m\u001b[1;33m\u001b[0m\u001b[1;33m\u001b[0m\u001b[0m\n\u001b[0m\u001b[0;32m    243\u001b[0m \u001b[1;33m\u001b[0m\u001b[0m\n\u001b[0;32m    244\u001b[0m     \u001b[1;32mdef\u001b[0m \u001b[0m_value_or_default\u001b[0m\u001b[1;33m(\u001b[0m\u001b[0mself\u001b[0m\u001b[1;33m,\u001b[0m \u001b[0mobj\u001b[0m\u001b[1;33m,\u001b[0m \u001b[0mkey\u001b[0m\u001b[1;33m,\u001b[0m \u001b[0mdefault\u001b[0m\u001b[1;33m)\u001b[0m\u001b[1;33m:\u001b[0m\u001b[1;33m\u001b[0m\u001b[1;33m\u001b[0m\u001b[0m\n",
      "\u001b[1;31mStaleElementReferenceException\u001b[0m: Message: stale element reference: element is not attached to the page document\n  (Session info: chrome=90.0.4430.212)\n"
     ]
    }
   ],
   "source": [
    "for city, url in url_dict.items():\n",
    "    current_url = url\n",
    "    driver.get(url)\n",
    "    sleep(2)\n",
    "    actions = ActionChains(driver)\n",
    "#Primeiro, vamos garantir aceitar os cookies da página (First, let's make sure to accept the cookies on the page) \n",
    "    try:\n",
    "        driver.find_element_by_class_name(\"cookie-notifier__cta\").click()\n",
    "    except:\n",
    "            print(\"No cookies!\")\n",
    "    #Agora vamos percorrer diversas páginas de resultados da pesquisa no website \n",
    "    #(Now we are going to scroll through several search results pages on the website)\n",
    "    for i in tqdm(range(145), desc=city):\n",
    "    \n",
    "    #Primeiramente eu rodei com 200 páginas, mas retornou erro pois só vai até a página 145 nesse caso, \n",
    "    #então para pegar toda a informação eu escolhi colocar exatamente 145 páginas na opção range.\n",
    "    #(First I've tried with 200 pages, but it return an error because it only goes to 145 pages in this case, \n",
    "    #so to get all the information, I've choosed to put it exactly 145 pages in the range option.)   \n",
    "        \n",
    "        sleep(5)\n",
    "        main_div = driver.find_element_by_class_name(\"results-main__panel\")\n",
    "        properties = main_div.find_elements_by_class_name(\"js-property-card\")\n",
    "        paginator = driver.find_element_by_class_name(\"js-results-pagination\")\n",
    "        next_page = paginator.find_element_by_xpath(\"//a[@title='Próxima página']\") #/html/body/main/div[2]/div[1]/section/div[2]/div[2]/div/ul/li[9]/a\n",
    "        \n",
    "        #Percorrer cada apartamento da página e guardar as informações desejadas\n",
    "        #(Scroll through each apartment on the page and save the wanted information)\n",
    "        for i,apartment in enumerate(properties):\n",
    "            url = apartment.find_element_by_class_name(\"js-card-title\").get_attribute(\"href\")\n",
    "            apto_id = url.split(\"id-\")[-1][:-1]\n",
    "            header = apartment.find_element_by_class_name(\"property-card__title\").text\n",
    "            address = apartment.find_element_by_class_name(\"property-card__address\").text\n",
    "            area = apartment.find_element_by_class_name(\"js-property-card-detail-area\").text\n",
    "            rooms = apartment.find_element_by_class_name(\"js-property-detail-rooms\").text\n",
    "            bathrooms = apartment.find_element_by_class_name(\"js-property-detail-bathroom\").text\n",
    "            garages = apartment.find_element_by_class_name(\"js-property-detail-garages\").text\n",
    "            #Tratar casos onde não há amenidades (Treat cases where there are no amenities):\n",
    "            try:\n",
    "                amenities = apartment.find_element_by_class_name(\"property-card__amenities\").text\n",
    "            except:\n",
    "                amenities = None\n",
    "                errors.append(url)\n",
    "            price = apartment.find_element_by_class_name(\"js-property-card-prices\").text\n",
    "            #Tratar casos onde não há preço do condomínio (Treat cases where there is no condo fee):\n",
    "            try:\n",
    "                condo = apartment.find_element_by_class_name(\"js-condo-price\").text\n",
    "            except:\n",
    "                condo = None\n",
    "                errors.append(url)\n",
    "            crawler = city\n",
    "            crawled_at = datetime.now().strftime(\"%Y-%m-%d %H:%M\")\n",
    "            #Criar dicionário com as informações de cada apartamento \n",
    "            #(Create dictionary with the information of each apartment)\n",
    "            results.append({\"id\": apto_id,\n",
    "                            \"url\": url,\n",
    "                            \"header\": header,\n",
    "                            \"address\": address,\n",
    "                            \"area\": area,\n",
    "                            \"rooms\": rooms,\n",
    "                            \"bathrooms\": bathrooms,\n",
    "                            \"garages\": garages,\n",
    "                            \"amenities\": amenities,\n",
    "                            \"price\": price,\n",
    "                            \"condo\": condo,\n",
    "                            \"crawler\": crawler,\n",
    "                            \"crawled_at\": crawled_at})\n",
    "        #Clicar na próxima página pesquisada (Click on the next searched page):\n",
    "        next_page.click()\n",
    "#Criar um data frame, no formato csv, no Pandas com os dados coletados e fechar o navegador!  \n",
    "#(Create a data frame, in csv format, in Pandas with the collected data and close the browser!)\n",
    "pd.DataFrame(results).to_csv(\"full_results.csv\", index=False)\n",
    "driver.close()\n",
    "\n"
   ]
  },
  {
   "cell_type": "code",
   "execution_count": 5,
   "metadata": {},
   "outputs": [],
   "source": [
    "df = pd.DataFrame(results)"
   ]
  },
  {
   "cell_type": "code",
   "execution_count": 6,
   "metadata": {},
   "outputs": [
    {
     "data": {
      "text/plain": [
       "(4755, 13)"
      ]
     },
     "execution_count": 6,
     "metadata": {},
     "output_type": "execute_result"
    }
   ],
   "source": [
    "df.shape"
   ]
  },
  {
   "cell_type": "code",
   "execution_count": 7,
   "metadata": {},
   "outputs": [
    {
     "data": {
      "text/html": [
       "<div>\n",
       "<style scoped>\n",
       "    .dataframe tbody tr th:only-of-type {\n",
       "        vertical-align: middle;\n",
       "    }\n",
       "\n",
       "    .dataframe tbody tr th {\n",
       "        vertical-align: top;\n",
       "    }\n",
       "\n",
       "    .dataframe thead th {\n",
       "        text-align: right;\n",
       "    }\n",
       "</style>\n",
       "<table border=\"1\" class=\"dataframe\">\n",
       "  <thead>\n",
       "    <tr style=\"text-align: right;\">\n",
       "      <th></th>\n",
       "      <th>id</th>\n",
       "      <th>url</th>\n",
       "      <th>header</th>\n",
       "      <th>address</th>\n",
       "      <th>area</th>\n",
       "      <th>rooms</th>\n",
       "      <th>bathrooms</th>\n",
       "      <th>garages</th>\n",
       "      <th>amenities</th>\n",
       "      <th>price</th>\n",
       "      <th>condo</th>\n",
       "      <th>crawler</th>\n",
       "      <th>crawled_at</th>\n",
       "    </tr>\n",
       "  </thead>\n",
       "  <tbody>\n",
       "    <tr>\n",
       "      <th>0</th>\n",
       "      <td>2520673504</td>\n",
       "      <td>https://www.vivareal.com.br/imovel/apartamento...</td>\n",
       "      <td>Apartamento com 2 Quartos para Aluguel, 75m²</td>\n",
       "      <td>Rua Coronel Pedro Demoro, 1507 - Balneario do ...</td>\n",
       "      <td>75</td>\n",
       "      <td>2 Quartos</td>\n",
       "      <td>2 Banheiros</td>\n",
       "      <td>1 Vaga</td>\n",
       "      <td>Elevador\\nPiscina\\nChurrasqueira\\nSalão de fes...</td>\n",
       "      <td>R$ 2.800 /mês</td>\n",
       "      <td>None</td>\n",
       "      <td>Florianópolis</td>\n",
       "      <td>2021-05-23 21:59</td>\n",
       "    </tr>\n",
       "    <tr>\n",
       "      <th>1</th>\n",
       "      <td>2512632181</td>\n",
       "      <td>https://www.vivareal.com.br/imovel/apartamento...</td>\n",
       "      <td>Apartamento com 2 Quartos para Aluguel, 65m²</td>\n",
       "      <td>Rua Maestro Aldo Krieger, 54 - Córrego Grande,...</td>\n",
       "      <td>65</td>\n",
       "      <td>2 Quartos</td>\n",
       "      <td>2 Banheiros</td>\n",
       "      <td>1 Vaga</td>\n",
       "      <td>Elevador\\nSalão de festas\\nAr-condicionado\\nCo...</td>\n",
       "      <td>R$ 1.700 /mês</td>\n",
       "      <td>R$ 740</td>\n",
       "      <td>Florianópolis</td>\n",
       "      <td>2021-05-23 21:59</td>\n",
       "    </tr>\n",
       "    <tr>\n",
       "      <th>2</th>\n",
       "      <td>2516104017</td>\n",
       "      <td>https://www.vivareal.com.br/imovel/apartamento...</td>\n",
       "      <td>Apartamento com 4 Quartos para Aluguel, 250m²</td>\n",
       "      <td>Avenida dos Búzios, 3147 - Jurerê Internaciona...</td>\n",
       "      <td>250</td>\n",
       "      <td>4 Quartos</td>\n",
       "      <td>3 Banheiros</td>\n",
       "      <td>2 Vagas</td>\n",
       "      <td>Mobiliado\\nElevador\\nChurrasqueira\\nSalão de f...</td>\n",
       "      <td>R$ 5.200 /mês</td>\n",
       "      <td>R$ 1.200</td>\n",
       "      <td>Florianópolis</td>\n",
       "      <td>2021-05-23 21:59</td>\n",
       "    </tr>\n",
       "    <tr>\n",
       "      <th>3</th>\n",
       "      <td>2518663689</td>\n",
       "      <td>https://www.vivareal.com.br/imovel/apartamento...</td>\n",
       "      <td>Apartamento com Quarto para Aluguel, 70m²</td>\n",
       "      <td>Servidão Manoel Isidoro Augusto, 560 - Rio Tav...</td>\n",
       "      <td>70</td>\n",
       "      <td>1 Quarto</td>\n",
       "      <td>1 Banheiro</td>\n",
       "      <td>1 Vaga</td>\n",
       "      <td>Jardim\\nSistema de alarme\\nCozinha americana</td>\n",
       "      <td>R$ 1.900 /mês</td>\n",
       "      <td>None</td>\n",
       "      <td>Florianópolis</td>\n",
       "      <td>2021-05-23 21:59</td>\n",
       "    </tr>\n",
       "    <tr>\n",
       "      <th>4</th>\n",
       "      <td>2517219101</td>\n",
       "      <td>https://www.vivareal.com.br/imovel/apartamento...</td>\n",
       "      <td>Apartamento com Quarto para Aluguel, 35m²</td>\n",
       "      <td>Rua Maria Eduarda, 33 - Pantanal, Florianópoli...</td>\n",
       "      <td>35</td>\n",
       "      <td>1 Quarto</td>\n",
       "      <td>1 Banheiro</td>\n",
       "      <td>-- Vaga</td>\n",
       "      <td>Mobiliado\\nElevador\\nAr-condicionado\\nCondomín...</td>\n",
       "      <td>R$ 1.400 /mês</td>\n",
       "      <td>R$ 300</td>\n",
       "      <td>Florianópolis</td>\n",
       "      <td>2021-05-23 21:59</td>\n",
       "    </tr>\n",
       "  </tbody>\n",
       "</table>\n",
       "</div>"
      ],
      "text/plain": [
       "           id                                                url  \\\n",
       "0  2520673504  https://www.vivareal.com.br/imovel/apartamento...   \n",
       "1  2512632181  https://www.vivareal.com.br/imovel/apartamento...   \n",
       "2  2516104017  https://www.vivareal.com.br/imovel/apartamento...   \n",
       "3  2518663689  https://www.vivareal.com.br/imovel/apartamento...   \n",
       "4  2517219101  https://www.vivareal.com.br/imovel/apartamento...   \n",
       "\n",
       "                                          header  \\\n",
       "0   Apartamento com 2 Quartos para Aluguel, 75m²   \n",
       "1   Apartamento com 2 Quartos para Aluguel, 65m²   \n",
       "2  Apartamento com 4 Quartos para Aluguel, 250m²   \n",
       "3      Apartamento com Quarto para Aluguel, 70m²   \n",
       "4      Apartamento com Quarto para Aluguel, 35m²   \n",
       "\n",
       "                                             address area      rooms  \\\n",
       "0  Rua Coronel Pedro Demoro, 1507 - Balneario do ...   75  2 Quartos   \n",
       "1  Rua Maestro Aldo Krieger, 54 - Córrego Grande,...   65  2 Quartos   \n",
       "2  Avenida dos Búzios, 3147 - Jurerê Internaciona...  250  4 Quartos   \n",
       "3  Servidão Manoel Isidoro Augusto, 560 - Rio Tav...   70   1 Quarto   \n",
       "4  Rua Maria Eduarda, 33 - Pantanal, Florianópoli...   35   1 Quarto   \n",
       "\n",
       "     bathrooms  garages                                          amenities  \\\n",
       "0  2 Banheiros   1 Vaga  Elevador\\nPiscina\\nChurrasqueira\\nSalão de fes...   \n",
       "1  2 Banheiros   1 Vaga  Elevador\\nSalão de festas\\nAr-condicionado\\nCo...   \n",
       "2  3 Banheiros  2 Vagas  Mobiliado\\nElevador\\nChurrasqueira\\nSalão de f...   \n",
       "3   1 Banheiro   1 Vaga       Jardim\\nSistema de alarme\\nCozinha americana   \n",
       "4   1 Banheiro  -- Vaga  Mobiliado\\nElevador\\nAr-condicionado\\nCondomín...   \n",
       "\n",
       "           price     condo        crawler        crawled_at  \n",
       "0  R$ 2.800 /mês      None  Florianópolis  2021-05-23 21:59  \n",
       "1  R$ 1.700 /mês    R$ 740  Florianópolis  2021-05-23 21:59  \n",
       "2  R$ 5.200 /mês  R$ 1.200  Florianópolis  2021-05-23 21:59  \n",
       "3  R$ 1.900 /mês      None  Florianópolis  2021-05-23 21:59  \n",
       "4  R$ 1.400 /mês    R$ 300  Florianópolis  2021-05-23 21:59  "
      ]
     },
     "execution_count": 7,
     "metadata": {},
     "output_type": "execute_result"
    }
   ],
   "source": [
    "df.head()"
   ]
  },
  {
   "cell_type": "code",
   "execution_count": null,
   "metadata": {},
   "outputs": [],
   "source": []
  }
 ],
 "metadata": {
  "kernelspec": {
   "display_name": "Python 3",
   "language": "python",
   "name": "python3"
  },
  "language_info": {
   "codemirror_mode": {
    "name": "ipython",
    "version": 3
   },
   "file_extension": ".py",
   "mimetype": "text/x-python",
   "name": "python",
   "nbconvert_exporter": "python",
   "pygments_lexer": "ipython3",
   "version": "3.8.5"
  }
 },
 "nbformat": 4,
 "nbformat_minor": 4
}

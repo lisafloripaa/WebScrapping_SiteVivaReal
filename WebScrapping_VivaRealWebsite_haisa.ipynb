{
 "cells": [
  {
   "cell_type": "markdown",
   "metadata": {},
   "source": [
    "# Web Scrapping de dados de apartamentos para alugar na cidade de Florianópolis SC no site Viva Real\n",
    "\n",
    "*Web Scrapping of data about apartaments for rent in Florianópolis (Santa Catarina Departament, Brazil) within the website called \"Viva Real\"*\n",
    "\n",
    "by Haisa Vargas Echeli."
   ]
  },
  {
   "cell_type": "markdown",
   "metadata": {},
   "source": [
    "Importando as bibliotecas necessárias\n",
    "*(Importing the needed packages)*"
   ]
  },
  {
   "cell_type": "code",
   "execution_count": 1,
   "metadata": {},
   "outputs": [],
   "source": [
    "from selenium import webdriver\n",
    "from selenium.webdriver.common.action_chains import ActionChains\n",
    "from webdriver_manager.chrome import ChromeDriverManager\n",
    "from time import sleep\n",
    "import pandas as pd\n",
    "from tqdm import tqdm\n",
    "from datetime import datetime"
   ]
  },
  {
   "cell_type": "markdown",
   "metadata": {},
   "source": [
    "Instalando o WebDriver Manager para o  navegador Google Chrome *(Installing the WebDriver Manager for Google Chrome browser)*"
   ]
  },
  {
   "cell_type": "code",
   "execution_count": 2,
   "metadata": {},
   "outputs": [
    {
     "name": "stderr",
     "output_type": "stream",
     "text": [
      "[WDM] - ====== WebDriver manager ======\n",
      "[WDM] - Current google-chrome version is 90.0.4430\n",
      "[WDM] - Get LATEST driver version for 90.0.4430\n"
     ]
    },
    {
     "name": "stdout",
     "output_type": "stream",
     "text": [
      "\n",
      "\n"
     ]
    },
    {
     "name": "stderr",
     "output_type": "stream",
     "text": [
      "[WDM] - Driver [C:\\Users\\lisaf\\.wdm\\drivers\\chromedriver\\win32\\90.0.4430.24\\chromedriver.exe] found in cache\n"
     ]
    }
   ],
   "source": [
    "#Isso também abre o navegador (this also opens the browser)!\n",
    "driver = webdriver.Chrome(ChromeDriverManager().install())"
   ]
  },
  {
   "cell_type": "markdown",
   "metadata": {},
   "source": [
    "Definindo variáveis *(Creating the variables)*"
   ]
  },
  {
   "cell_type": "code",
   "execution_count": 3,
   "metadata": {},
   "outputs": [],
   "source": [
    "url_dict = {\"Florianópolis\": \"https://www.vivareal.com.br/aluguel/santa-catarina/florianopolis/apartamento_residencial/\"}\n",
    "\n",
    "errors = []\n",
    "results = []"
   ]
  },
  {
   "cell_type": "markdown",
   "metadata": {},
   "source": [
    "Criando função para o Web Scrapping dos dados do site *(Creating the function for Web Scrapping the site data)*"
   ]
  },
  {
   "cell_type": "code",
   "execution_count": 4,
   "metadata": {},
  
  {
   "cell_type": "code",
   "execution_count": 5,
   "metadata": {},
   "outputs": [],
   "source": [
    "df = pd.DataFrame(results)"
   ]
  },
  {
   "cell_type": "code",
   "execution_count": 6,
   "metadata": {},
   "outputs": [
    {
     "data": {
      "text/plain": [
       "(4755, 13)"
      ]
     },
     "execution_count": 6,
     "metadata": {},
     "output_type": "execute_result"
    }
   ],
   "source": [
    "df.shape"
   ]
  },
  {
   "cell_type": "code",
   "execution_count": 7,
   "metadata": {},
   "outputs": [
    {
     "data": {
      "text/html": [
       "<div>\n",
       "<style scoped>\n",
       "    .dataframe tbody tr th:only-of-type {\n",
       "        vertical-align: middle;\n",
       "    }\n",
       "\n",
       "    .dataframe tbody tr th {\n",
       "        vertical-align: top;\n",
       "    }\n",
       "\n",
       "    .dataframe thead th {\n",
       "        text-align: right;\n",
       "    }\n",
       "</style>\n",
       "<table border=\"1\" class=\"dataframe\">\n",
       "  <thead>\n",
       "    <tr style=\"text-align: right;\">\n",
       "      <th></th>\n",
       "      <th>id</th>\n",
       "      <th>url</th>\n",
       "      <th>header</th>\n",
       "      <th>address</th>\n",
       "      <th>area</th>\n",
       "      <th>rooms</th>\n",
       "      <th>bathrooms</th>\n",
       "      <th>garages</th>\n",
       "      <th>amenities</th>\n",
       "      <th>price</th>\n",
       "      <th>condo</th>\n",
       "      <th>crawler</th>\n",
       "      <th>crawled_at</th>\n",
       "    </tr>\n",
       "  </thead>\n",
       "  <tbody>\n",
       "    <tr>\n",
       "      <th>0</th>\n",
       "      <td>2520673504</td>\n",
       "      <td>https://www.vivareal.com.br/imovel/apartamento...</td>\n",
       "      <td>Apartamento com 2 Quartos para Aluguel, 75m²</td>\n",
       "      <td>Rua Coronel Pedro Demoro, 1507 - Balneario do ...</td>\n",
       "      <td>75</td>\n",
       "      <td>2 Quartos</td>\n",
       "      <td>2 Banheiros</td>\n",
       "      <td>1 Vaga</td>\n",
       "      <td>Elevador\\nPiscina\\nChurrasqueira\\nSalão de fes...</td>\n",
       "      <td>R$ 2.800 /mês</td>\n",
       "      <td>None</td>\n",
       "      <td>Florianópolis</td>\n",
       "      <td>2021-05-23 21:59</td>\n",
       "    </tr>\n",
       "    <tr>\n",
       "      <th>1</th>\n",
       "      <td>2512632181</td>\n",
       "      <td>https://www.vivareal.com.br/imovel/apartamento...</td>\n",
       "      <td>Apartamento com 2 Quartos para Aluguel, 65m²</td>\n",
       "      <td>Rua Maestro Aldo Krieger, 54 - Córrego Grande,...</td>\n",
       "      <td>65</td>\n",
       "      <td>2 Quartos</td>\n",
       "      <td>2 Banheiros</td>\n",
       "      <td>1 Vaga</td>\n",
       "      <td>Elevador\\nSalão de festas\\nAr-condicionado\\nCo...</td>\n",
       "      <td>R$ 1.700 /mês</td>\n",
       "      <td>R$ 740</td>\n",
       "      <td>Florianópolis</td>\n",
       "      <td>2021-05-23 21:59</td>\n",
       "    </tr>\n",
       "    <tr>\n",
       "      <th>2</th>\n",
       "      <td>2516104017</td>\n",
       "      <td>https://www.vivareal.com.br/imovel/apartamento...</td>\n",
       "      <td>Apartamento com 4 Quartos para Aluguel, 250m²</td>\n",
       "      <td>Avenida dos Búzios, 3147 - Jurerê Internaciona...</td>\n",
       "      <td>250</td>\n",
       "      <td>4 Quartos</td>\n",
       "      <td>3 Banheiros</td>\n",
       "      <td>2 Vagas</td>\n",
       "      <td>Mobiliado\\nElevador\\nChurrasqueira\\nSalão de f...</td>\n",
       "      <td>R$ 5.200 /mês</td>\n",
       "      <td>R$ 1.200</td>\n",
       "      <td>Florianópolis</td>\n",
       "      <td>2021-05-23 21:59</td>\n",
       "    </tr>\n",
       "    <tr>\n",
       "      <th>3</th>\n",
       "      <td>2518663689</td>\n",
       "      <td>https://www.vivareal.com.br/imovel/apartamento...</td>\n",
       "      <td>Apartamento com Quarto para Aluguel, 70m²</td>\n",
       "      <td>Servidão Manoel Isidoro Augusto, 560 - Rio Tav...</td>\n",
       "      <td>70</td>\n",
       "      <td>1 Quarto</td>\n",
       "      <td>1 Banheiro</td>\n",
       "      <td>1 Vaga</td>\n",
       "      <td>Jardim\\nSistema de alarme\\nCozinha americana</td>\n",
       "      <td>R$ 1.900 /mês</td>\n",
       "      <td>None</td>\n",
       "      <td>Florianópolis</td>\n",
       "      <td>2021-05-23 21:59</td>\n",
       "    </tr>\n",
       "    <tr>\n",
       "      <th>4</th>\n",
       "      <td>2517219101</td>\n",
       "      <td>https://www.vivareal.com.br/imovel/apartamento...</td>\n",
       "      <td>Apartamento com Quarto para Aluguel, 35m²</td>\n",
       "      <td>Rua Maria Eduarda, 33 - Pantanal, Florianópoli...</td>\n",
       "      <td>35</td>\n",
       "      <td>1 Quarto</td>\n",
       "      <td>1 Banheiro</td>\n",
       "      <td>-- Vaga</td>\n",
       "      <td>Mobiliado\\nElevador\\nAr-condicionado\\nCondomín...</td>\n",
       "      <td>R$ 1.400 /mês</td>\n",
       "      <td>R$ 300</td>\n",
       "      <td>Florianópolis</td>\n",
       "      <td>2021-05-23 21:59</td>\n",
       "    </tr>\n",
       "  </tbody>\n",
       "</table>\n",
       "</div>"
      ],
      "text/plain": [
       "           id                                                url  \\\n",
       "0  2520673504  https://www.vivareal.com.br/imovel/apartamento...   \n",
       "1  2512632181  https://www.vivareal.com.br/imovel/apartamento...   \n",
       "2  2516104017  https://www.vivareal.com.br/imovel/apartamento...   \n",
       "3  2518663689  https://www.vivareal.com.br/imovel/apartamento...   \n",
       "4  2517219101  https://www.vivareal.com.br/imovel/apartamento...   \n",
       "\n",
       "                                          header  \\\n",
       "0   Apartamento com 2 Quartos para Aluguel, 75m²   \n",
       "1   Apartamento com 2 Quartos para Aluguel, 65m²   \n",
       "2  Apartamento com 4 Quartos para Aluguel, 250m²   \n",
       "3      Apartamento com Quarto para Aluguel, 70m²   \n",
       "4      Apartamento com Quarto para Aluguel, 35m²   \n",
       "\n",
       "                                             address area      rooms  \\\n",
       "0  Rua Coronel Pedro Demoro, 1507 - Balneario do ...   75  2 Quartos   \n",
       "1  Rua Maestro Aldo Krieger, 54 - Córrego Grande,...   65  2 Quartos   \n",
       "2  Avenida dos Búzios, 3147 - Jurerê Internaciona...  250  4 Quartos   \n",
       "3  Servidão Manoel Isidoro Augusto, 560 - Rio Tav...   70   1 Quarto   \n",
       "4  Rua Maria Eduarda, 33 - Pantanal, Florianópoli...   35   1 Quarto   \n",
       "\n",
       "     bathrooms  garages                                          amenities  \\\n",
       "0  2 Banheiros   1 Vaga  Elevador\\nPiscina\\nChurrasqueira\\nSalão de fes...   \n",
       "1  2 Banheiros   1 Vaga  Elevador\\nSalão de festas\\nAr-condicionado\\nCo...   \n",
       "2  3 Banheiros  2 Vagas  Mobiliado\\nElevador\\nChurrasqueira\\nSalão de f...   \n",
       "3   1 Banheiro   1 Vaga       Jardim\\nSistema de alarme\\nCozinha americana   \n",
       "4   1 Banheiro  -- Vaga  Mobiliado\\nElevador\\nAr-condicionado\\nCondomín...   \n",
       "\n",
       "           price     condo        crawler        crawled_at  \n",
       "0  R$ 2.800 /mês      None  Florianópolis  2021-05-23 21:59  \n",
       "1  R$ 1.700 /mês    R$ 740  Florianópolis  2021-05-23 21:59  \n",
       "2  R$ 5.200 /mês  R$ 1.200  Florianópolis  2021-05-23 21:59  \n",
       "3  R$ 1.900 /mês      None  Florianópolis  2021-05-23 21:59  \n",
       "4  R$ 1.400 /mês    R$ 300  Florianópolis  2021-05-23 21:59  "
      ]
     },
     "execution_count": 7,
     "metadata": {},
     "output_type": "execute_result"
    }
   ],
   "source": [
    "df.head()"
   ]
  },
  {
   "cell_type": "code",
   "execution_count": null,
   "metadata": {},
   "outputs": [],
   "source": []
  }
 ],
 "metadata": {
  "kernelspec": {
   "display_name": "Python 3",
   "language": "python",
   "name": "python3"
  },
  "language_info": {
   "codemirror_mode": {
    "name": "ipython",
    "version": 3
   },
   "file_extension": ".py",
   "mimetype": "text/x-python",
   "name": "python",
   "nbconvert_exporter": "python",
   "pygments_lexer": "ipython3",
   "version": "3.8.5"
  }
 },
 "nbformat": 4,
 "nbformat_minor": 4
}
